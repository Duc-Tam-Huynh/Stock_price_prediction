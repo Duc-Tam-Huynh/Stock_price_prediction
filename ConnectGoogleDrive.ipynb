{
  "cells": [
    {
      "cell_type": "markdown",
      "metadata": {
        "id": "view-in-github"
      },
      "source": [
        "# <a href=\"https://colab.research.google.com/github/amanjain252002/Stock-Price-Prediction/blob/main/Deep_Learning_Model.ipynb\" target=\"_parent\"><img src=\"https://colab.research.google.com/assets/colab-badge.svg\" alt=\"Open In Colab\"/></a>"
      ]
    },
    {
      "cell_type": "code",
      "execution_count": 74,
      "metadata": {
        "colab": {
          "base_uri": "https://localhost:8080/"
        },
        "id": "F_VOWrxhDhkf",
        "outputId": "38817be7-d36b-49f4-dd1c-7335d6e7badb"
      },
      "outputs": [
        {
          "name": "stdout",
          "output_type": "stream",
          "text": [
            "Drive already mounted at /content/drive; to attempt to forcibly remount, call drive.mount(\"/content/drive\", force_remount=True).\n"
          ]
        }
      ],
      "source": [
        "from google.colab import drive\n",
        "drive.mount('/content/drive')"
      ]
    },
    {
      "cell_type": "code",
      "execution_count": 75,
      "metadata": {
        "colab": {
          "base_uri": "https://localhost:8080/"
        },
        "id": "3piW3VnLDhkh",
        "outputId": "324c34ab-fb9e-4bc8-e997-6f47d6b059e6"
      },
      "outputs": [
        {
          "name": "stdout",
          "output_type": "stream",
          "text": [
            "/content/drive/MyDrive/MachineLearning/Time Series/Multivariate LSTM, GRU & 1d CNN/Stock-Price-Prediction-main\n"
          ]
        }
      ],
      "source": [
        "# Check GDrive connection\n",
        "# NOTE: You should change this path based on your real configuration\n",
        "#tutorial_path = '/content/drive/MyDrive/1. Teaching/Information Retrieval/Tutorial/'\n",
        "tutorial_path = '/content/drive/MyDrive/MachineLearning/Time Series/Multivariate LSTM, GRU & 1d CNN/Stock-Price-Prediction-main'\n",
        "\n",
        "%cd '$tutorial_path'\n"
      ]
    }
  ],
  "metadata": {
    "accelerator": "GPU",
    "colab": {
      "collapsed_sections": [],
      "name": "Deep_Learning_Model.ipynb",
      "provenance": []
    },
    "gpuClass": "standard",
    "kernelspec": {
      "display_name": "Python 3.10.5 64-bit",
      "language": "python",
      "name": "python3"
    },
    "language_info": {
      "codemirror_mode": {
        "name": "ipython",
        "version": 3
      },
      "file_extension": ".py",
      "mimetype": "text/x-python",
      "name": "python",
      "nbconvert_exporter": "python",
      "pygments_lexer": "ipython3",
      "version": "3.10.5"
    },
    "vscode": {
      "interpreter": {
        "hash": "60b2f3f142b0ff590bc6e0fe66bff22db4a97b51c03771925d8a6e15cb82ced2"
      }
    }
  },
  "nbformat": 4,
  "nbformat_minor": 0
}
